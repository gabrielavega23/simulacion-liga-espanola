{
  "nbformat": 4,
  "nbformat_minor": 0,
  "metadata": {
    "colab": {
      "name": "proyectoLaLigaV2.ipynb",
      "provenance": [],
      "collapsed_sections": []
    },
    "kernelspec": {
      "name": "python3",
      "display_name": "Python 3"
    },
    "accelerator": "GPU"
  },
  "cells": [
    {
      "cell_type": "markdown",
      "metadata": {
        "id": "8mrQGbiT-9Ly",
        "colab_type": "text"
      },
      "source": [
        "# **Proyecto La Liga** \n",
        "*Gabriela Vega.*\n",
        "\n",
        "*Juan Albarracin.*\n",
        "\n",
        "*Ángel Gómez.*"
      ]
    },
    {
      "cell_type": "markdown",
      "metadata": {
        "id": "kAPP3vnfQzS7",
        "colab_type": "text"
      },
      "source": [
        "**Sistema de competición:**\n",
        "\n",
        "La competición se disputa anualmente, consta de un grupo único integrado por **veinte equipos**.  se enfrentan todos contra todos en **dos ocasiones** (una en campo propio y otra en campo contrario). El orden de los encuentros se decide por sorteo antes de empezar la competición.\n",
        "\n",
        "La clasificación final se establece con arreglo a los puntos totales obtenidos por cada equipo al finalizar el campeonato. Los equipos obtienen **tres puntos por cada partido ganado, un punto por cada empate y ningún punto por los partidos perdidos.**"
      ]
    },
    {
      "cell_type": "markdown",
      "metadata": {
        "id": "7T1kLGYI_DH5",
        "colab_type": "text"
      },
      "source": [
        "**Objetivo del Proyecto:**\n",
        "\n",
        "El objetivo principal de este proyecto es simular la tabla de clasificaciones de la liga para así poder predecir resultados de partidos para la realización de apuestas."
      ]
    },
    {
      "cell_type": "markdown",
      "metadata": {
        "id": "F8XUcwxZHi_P",
        "colab_type": "text"
      },
      "source": [
        "### 1.Importar Datos\n"
      ]
    },
    {
      "cell_type": "markdown",
      "metadata": {
        "id": "rXkAc3m9Hwkc",
        "colab_type": "text"
      },
      "source": [
        "Tomamos nuestro dataset y lo exploramos"
      ]
    },
    {
      "cell_type": "code",
      "metadata": {
        "id": "IaiaC7NvkkOO",
        "colab_type": "code",
        "colab": {}
      },
      "source": [
        "import numpy as np\n",
        "import pandas as pd"
      ],
      "execution_count": 0,
      "outputs": []
    },
    {
      "cell_type": "code",
      "metadata": {
        "id": "54cgzDHelNRN",
        "colab_type": "code",
        "outputId": "d0118ef2-5231-434a-ffd7-0a9ee4012301",
        "colab": {
          "resources": {
            "http://localhost:8080/nbextensions/google.colab/files.js": {
              "data": "Ly8gQ29weXJpZ2h0IDIwMTcgR29vZ2xlIExMQwovLwovLyBMaWNlbnNlZCB1bmRlciB0aGUgQXBhY2hlIExpY2Vuc2UsIFZlcnNpb24gMi4wICh0aGUgIkxpY2Vuc2UiKTsKLy8geW91IG1heSBub3QgdXNlIHRoaXMgZmlsZSBleGNlcHQgaW4gY29tcGxpYW5jZSB3aXRoIHRoZSBMaWNlbnNlLgovLyBZb3UgbWF5IG9idGFpbiBhIGNvcHkgb2YgdGhlIExpY2Vuc2UgYXQKLy8KLy8gICAgICBodHRwOi8vd3d3LmFwYWNoZS5vcmcvbGljZW5zZXMvTElDRU5TRS0yLjAKLy8KLy8gVW5sZXNzIHJlcXVpcmVkIGJ5IGFwcGxpY2FibGUgbGF3IG9yIGFncmVlZCB0byBpbiB3cml0aW5nLCBzb2Z0d2FyZQovLyBkaXN0cmlidXRlZCB1bmRlciB0aGUgTGljZW5zZSBpcyBkaXN0cmlidXRlZCBvbiBhbiAiQVMgSVMiIEJBU0lTLAovLyBXSVRIT1VUIFdBUlJBTlRJRVMgT1IgQ09ORElUSU9OUyBPRiBBTlkgS0lORCwgZWl0aGVyIGV4cHJlc3Mgb3IgaW1wbGllZC4KLy8gU2VlIHRoZSBMaWNlbnNlIGZvciB0aGUgc3BlY2lmaWMgbGFuZ3VhZ2UgZ292ZXJuaW5nIHBlcm1pc3Npb25zIGFuZAovLyBsaW1pdGF0aW9ucyB1bmRlciB0aGUgTGljZW5zZS4KCi8qKgogKiBAZmlsZW92ZXJ2aWV3IEhlbHBlcnMgZm9yIGdvb2dsZS5jb2xhYiBQeXRob24gbW9kdWxlLgogKi8KKGZ1bmN0aW9uKHNjb3BlKSB7CmZ1bmN0aW9uIHNwYW4odGV4dCwgc3R5bGVBdHRyaWJ1dGVzID0ge30pIHsKICBjb25zdCBlbGVtZW50ID0gZG9jdW1lbnQuY3JlYXRlRWxlbWVudCgnc3BhbicpOwogIGVsZW1lbnQudGV4dENvbnRlbnQgPSB0ZXh0OwogIGZvciAoY29uc3Qga2V5IG9mIE9iamVjdC5rZXlzKHN0eWxlQXR0cmlidXRlcykpIHsKICAgIGVsZW1lbnQuc3R5bGVba2V5XSA9IHN0eWxlQXR0cmlidXRlc1trZXldOwogIH0KICByZXR1cm4gZWxlbWVudDsKfQoKLy8gTWF4IG51bWJlciBvZiBieXRlcyB3aGljaCB3aWxsIGJlIHVwbG9hZGVkIGF0IGEgdGltZS4KY29uc3QgTUFYX1BBWUxPQURfU0laRSA9IDEwMCAqIDEwMjQ7Ci8vIE1heCBhbW91bnQgb2YgdGltZSB0byBibG9jayB3YWl0aW5nIGZvciB0aGUgdXNlci4KY29uc3QgRklMRV9DSEFOR0VfVElNRU9VVF9NUyA9IDMwICogMTAwMDsKCmZ1bmN0aW9uIF91cGxvYWRGaWxlcyhpbnB1dElkLCBvdXRwdXRJZCkgewogIGNvbnN0IHN0ZXBzID0gdXBsb2FkRmlsZXNTdGVwKGlucHV0SWQsIG91dHB1dElkKTsKICBjb25zdCBvdXRwdXRFbGVtZW50ID0gZG9jdW1lbnQuZ2V0RWxlbWVudEJ5SWQob3V0cHV0SWQpOwogIC8vIENhY2hlIHN0ZXBzIG9uIHRoZSBvdXRwdXRFbGVtZW50IHRvIG1ha2UgaXQgYXZhaWxhYmxlIGZvciB0aGUgbmV4dCBjYWxsCiAgLy8gdG8gdXBsb2FkRmlsZXNDb250aW51ZSBmcm9tIFB5dGhvbi4KICBvdXRwdXRFbGVtZW50LnN0ZXBzID0gc3RlcHM7CgogIHJldHVybiBfdXBsb2FkRmlsZXNDb250aW51ZShvdXRwdXRJZCk7Cn0KCi8vIFRoaXMgaXMgcm91Z2hseSBhbiBhc3luYyBnZW5lcmF0b3IgKG5vdCBzdXBwb3J0ZWQgaW4gdGhlIGJyb3dzZXIgeWV0KSwKLy8gd2hlcmUgdGhlcmUgYXJlIG11bHRpcGxlIGFzeW5jaHJvbm91cyBzdGVwcyBhbmQgdGhlIFB5dGhvbiBzaWRlIGlzIGdvaW5nCi8vIHRvIHBvbGwgZm9yIGNvbXBsZXRpb24gb2YgZWFjaCBzdGVwLgovLyBUaGlzIHVzZXMgYSBQcm9taXNlIHRvIGJsb2NrIHRoZSBweXRob24gc2lkZSBvbiBjb21wbGV0aW9uIG9mIGVhY2ggc3RlcCwKLy8gdGhlbiBwYXNzZXMgdGhlIHJlc3VsdCBvZiB0aGUgcHJldmlvdXMgc3RlcCBhcyB0aGUgaW5wdXQgdG8gdGhlIG5leHQgc3RlcC4KZnVuY3Rpb24gX3VwbG9hZEZpbGVzQ29udGludWUob3V0cHV0SWQpIHsKICBjb25zdCBvdXRwdXRFbGVtZW50ID0gZG9jdW1lbnQuZ2V0RWxlbWVudEJ5SWQob3V0cHV0SWQpOwogIGNvbnN0IHN0ZXBzID0gb3V0cHV0RWxlbWVudC5zdGVwczsKCiAgY29uc3QgbmV4dCA9IHN0ZXBzLm5leHQob3V0cHV0RWxlbWVudC5sYXN0UHJvbWlzZVZhbHVlKTsKICByZXR1cm4gUHJvbWlzZS5yZXNvbHZlKG5leHQudmFsdWUucHJvbWlzZSkudGhlbigodmFsdWUpID0+IHsKICAgIC8vIENhY2hlIHRoZSBsYXN0IHByb21pc2UgdmFsdWUgdG8gbWFrZSBpdCBhdmFpbGFibGUgdG8gdGhlIG5leHQKICAgIC8vIHN0ZXAgb2YgdGhlIGdlbmVyYXRvci4KICAgIG91dHB1dEVsZW1lbnQubGFzdFByb21pc2VWYWx1ZSA9IHZhbHVlOwogICAgcmV0dXJuIG5leHQudmFsdWUucmVzcG9uc2U7CiAgfSk7Cn0KCi8qKgogKiBHZW5lcmF0b3IgZnVuY3Rpb24gd2hpY2ggaXMgY2FsbGVkIGJldHdlZW4gZWFjaCBhc3luYyBzdGVwIG9mIHRoZSB1cGxvYWQKICogcHJvY2Vzcy4KICogQHBhcmFtIHtzdHJpbmd9IGlucHV0SWQgRWxlbWVudCBJRCBvZiB0aGUgaW5wdXQgZmlsZSBwaWNrZXIgZWxlbWVudC4KICogQHBhcmFtIHtzdHJpbmd9IG91dHB1dElkIEVsZW1lbnQgSUQgb2YgdGhlIG91dHB1dCBkaXNwbGF5LgogKiBAcmV0dXJuIHshSXRlcmFibGU8IU9iamVjdD59IEl0ZXJhYmxlIG9mIG5leHQgc3RlcHMuCiAqLwpmdW5jdGlvbiogdXBsb2FkRmlsZXNTdGVwKGlucHV0SWQsIG91dHB1dElkKSB7CiAgY29uc3QgaW5wdXRFbGVtZW50ID0gZG9jdW1lbnQuZ2V0RWxlbWVudEJ5SWQoaW5wdXRJZCk7CiAgaW5wdXRFbGVtZW50LmRpc2FibGVkID0gZmFsc2U7CgogIGNvbnN0IG91dHB1dEVsZW1lbnQgPSBkb2N1bWVudC5nZXRFbGVtZW50QnlJZChvdXRwdXRJZCk7CiAgb3V0cHV0RWxlbWVudC5pbm5lckhUTUwgPSAnJzsKCiAgY29uc3QgcGlja2VkUHJvbWlzZSA9IG5ldyBQcm9taXNlKChyZXNvbHZlKSA9PiB7CiAgICBpbnB1dEVsZW1lbnQuYWRkRXZlbnRMaXN0ZW5lcignY2hhbmdlJywgKGUpID0+IHsKICAgICAgcmVzb2x2ZShlLnRhcmdldC5maWxlcyk7CiAgICB9KTsKICB9KTsKCiAgY29uc3QgY2FuY2VsID0gZG9jdW1lbnQuY3JlYXRlRWxlbWVudCgnYnV0dG9uJyk7CiAgaW5wdXRFbGVtZW50LnBhcmVudEVsZW1lbnQuYXBwZW5kQ2hpbGQoY2FuY2VsKTsKICBjYW5jZWwudGV4dENvbnRlbnQgPSAnQ2FuY2VsIHVwbG9hZCc7CiAgY29uc3QgY2FuY2VsUHJvbWlzZSA9IG5ldyBQcm9taXNlKChyZXNvbHZlKSA9PiB7CiAgICBjYW5jZWwub25jbGljayA9ICgpID0+IHsKICAgICAgcmVzb2x2ZShudWxsKTsKICAgIH07CiAgfSk7CgogIC8vIENhbmNlbCB1cGxvYWQgaWYgdXNlciBoYXNuJ3QgcGlja2VkIGFueXRoaW5nIGluIHRpbWVvdXQuCiAgY29uc3QgdGltZW91dFByb21pc2UgPSBuZXcgUHJvbWlzZSgocmVzb2x2ZSkgPT4gewogICAgc2V0VGltZW91dCgoKSA9PiB7CiAgICAgIHJlc29sdmUobnVsbCk7CiAgICB9LCBGSUxFX0NIQU5HRV9USU1FT1VUX01TKTsKICB9KTsKCiAgLy8gV2FpdCBmb3IgdGhlIHVzZXIgdG8gcGljayB0aGUgZmlsZXMuCiAgY29uc3QgZmlsZXMgPSB5aWVsZCB7CiAgICBwcm9taXNlOiBQcm9taXNlLnJhY2UoW3BpY2tlZFByb21pc2UsIHRpbWVvdXRQcm9taXNlLCBjYW5jZWxQcm9taXNlXSksCiAgICByZXNwb25zZTogewogICAgICBhY3Rpb246ICdzdGFydGluZycsCiAgICB9CiAgfTsKCiAgaWYgKCFmaWxlcykgewogICAgcmV0dXJuIHsKICAgICAgcmVzcG9uc2U6IHsKICAgICAgICBhY3Rpb246ICdjb21wbGV0ZScsCiAgICAgIH0KICAgIH07CiAgfQoKICBjYW5jZWwucmVtb3ZlKCk7CgogIC8vIERpc2FibGUgdGhlIGlucHV0IGVsZW1lbnQgc2luY2UgZnVydGhlciBwaWNrcyBhcmUgbm90IGFsbG93ZWQuCiAgaW5wdXRFbGVtZW50LmRpc2FibGVkID0gdHJ1ZTsKCiAgZm9yIChjb25zdCBmaWxlIG9mIGZpbGVzKSB7CiAgICBjb25zdCBsaSA9IGRvY3VtZW50LmNyZWF0ZUVsZW1lbnQoJ2xpJyk7CiAgICBsaS5hcHBlbmQoc3BhbihmaWxlLm5hbWUsIHtmb250V2VpZ2h0OiAnYm9sZCd9KSk7CiAgICBsaS5hcHBlbmQoc3BhbigKICAgICAgICBgKCR7ZmlsZS50eXBlIHx8ICduL2EnfSkgLSAke2ZpbGUuc2l6ZX0gYnl0ZXMsIGAgKwogICAgICAgIGBsYXN0IG1vZGlmaWVkOiAkewogICAgICAgICAgICBmaWxlLmxhc3RNb2RpZmllZERhdGUgPyBmaWxlLmxhc3RNb2RpZmllZERhdGUudG9Mb2NhbGVEYXRlU3RyaW5nKCkgOgogICAgICAgICAgICAgICAgICAgICAgICAgICAgICAgICAgICAnbi9hJ30gLSBgKSk7CiAgICBjb25zdCBwZXJjZW50ID0gc3BhbignMCUgZG9uZScpOwogICAgbGkuYXBwZW5kQ2hpbGQocGVyY2VudCk7CgogICAgb3V0cHV0RWxlbWVudC5hcHBlbmRDaGlsZChsaSk7CgogICAgY29uc3QgZmlsZURhdGFQcm9taXNlID0gbmV3IFByb21pc2UoKHJlc29sdmUpID0+IHsKICAgICAgY29uc3QgcmVhZGVyID0gbmV3IEZpbGVSZWFkZXIoKTsKICAgICAgcmVhZGVyLm9ubG9hZCA9IChlKSA9PiB7CiAgICAgICAgcmVzb2x2ZShlLnRhcmdldC5yZXN1bHQpOwogICAgICB9OwogICAgICByZWFkZXIucmVhZEFzQXJyYXlCdWZmZXIoZmlsZSk7CiAgICB9KTsKICAgIC8vIFdhaXQgZm9yIHRoZSBkYXRhIHRvIGJlIHJlYWR5LgogICAgbGV0IGZpbGVEYXRhID0geWllbGQgewogICAgICBwcm9taXNlOiBmaWxlRGF0YVByb21pc2UsCiAgICAgIHJlc3BvbnNlOiB7CiAgICAgICAgYWN0aW9uOiAnY29udGludWUnLAogICAgICB9CiAgICB9OwoKICAgIC8vIFVzZSBhIGNodW5rZWQgc2VuZGluZyB0byBhdm9pZCBtZXNzYWdlIHNpemUgbGltaXRzLiBTZWUgYi82MjExNTY2MC4KICAgIGxldCBwb3NpdGlvbiA9IDA7CiAgICB3aGlsZSAocG9zaXRpb24gPCBmaWxlRGF0YS5ieXRlTGVuZ3RoKSB7CiAgICAgIGNvbnN0IGxlbmd0aCA9IE1hdGgubWluKGZpbGVEYXRhLmJ5dGVMZW5ndGggLSBwb3NpdGlvbiwgTUFYX1BBWUxPQURfU0laRSk7CiAgICAgIGNvbnN0IGNodW5rID0gbmV3IFVpbnQ4QXJyYXkoZmlsZURhdGEsIHBvc2l0aW9uLCBsZW5ndGgpOwogICAgICBwb3NpdGlvbiArPSBsZW5ndGg7CgogICAgICBjb25zdCBiYXNlNjQgPSBidG9hKFN0cmluZy5mcm9tQ2hhckNvZGUuYXBwbHkobnVsbCwgY2h1bmspKTsKICAgICAgeWllbGQgewogICAgICAgIHJlc3BvbnNlOiB7CiAgICAgICAgICBhY3Rpb246ICdhcHBlbmQnLAogICAgICAgICAgZmlsZTogZmlsZS5uYW1lLAogICAgICAgICAgZGF0YTogYmFzZTY0LAogICAgICAgIH0sCiAgICAgIH07CiAgICAgIHBlcmNlbnQudGV4dENvbnRlbnQgPQogICAgICAgICAgYCR7TWF0aC5yb3VuZCgocG9zaXRpb24gLyBmaWxlRGF0YS5ieXRlTGVuZ3RoKSAqIDEwMCl9JSBkb25lYDsKICAgIH0KICB9CgogIC8vIEFsbCBkb25lLgogIHlpZWxkIHsKICAgIHJlc3BvbnNlOiB7CiAgICAgIGFjdGlvbjogJ2NvbXBsZXRlJywKICAgIH0KICB9Owp9CgpzY29wZS5nb29nbGUgPSBzY29wZS5nb29nbGUgfHwge307CnNjb3BlLmdvb2dsZS5jb2xhYiA9IHNjb3BlLmdvb2dsZS5jb2xhYiB8fCB7fTsKc2NvcGUuZ29vZ2xlLmNvbGFiLl9maWxlcyA9IHsKICBfdXBsb2FkRmlsZXMsCiAgX3VwbG9hZEZpbGVzQ29udGludWUsCn07Cn0pKHNlbGYpOwo=",
              "ok": true,
              "headers": [
                [
                  "content-type",
                  "application/javascript"
                ]
              ],
              "status": 200,
              "status_text": ""
            }
          },
          "base_uri": "https://localhost:8080/",
          "height": 91
        }
      },
      "source": [
        "from google.colab import files\n",
        "up = files.upload()"
      ],
      "execution_count": 0,
      "outputs": [
        {
          "output_type": "display_data",
          "data": {
            "text/html": [
              "\n",
              "     <input type=\"file\" id=\"files-7af0aaeb-19ad-42ec-a6c1-e44d92dc6ecb\" name=\"files[]\" multiple disabled />\n",
              "     <output id=\"result-7af0aaeb-19ad-42ec-a6c1-e44d92dc6ecb\">\n",
              "      Upload widget is only available when the cell has been executed in the\n",
              "      current browser session. Please rerun this cell to enable.\n",
              "      </output>\n",
              "      <script src=\"/nbextensions/google.colab/files.js\"></script> "
            ],
            "text/plain": [
              "<IPython.core.display.HTML object>"
            ]
          },
          "metadata": {
            "tags": []
          }
        },
        {
          "output_type": "stream",
          "text": [
            "Saving FMEL_Dataset.csv to FMEL_Dataset (1).csv\n"
          ],
          "name": "stdout"
        }
      ]
    },
    {
      "cell_type": "code",
      "metadata": {
        "id": "w9s9Yvo-oDXX",
        "colab_type": "code",
        "colab": {}
      },
      "source": [
        "data = pd.read_csv(\"FMEL_Dataset.csv\")"
      ],
      "execution_count": 0,
      "outputs": []
    },
    {
      "cell_type": "code",
      "metadata": {
        "id": "YJ0_8vJ5o2ew",
        "colab_type": "code",
        "outputId": "143e1ec0-68d0-4509-8e64-cba08430ce9e",
        "colab": {
          "base_uri": "https://localhost:8080/",
          "height": 603
        }
      },
      "source": [
        "data"
      ],
      "execution_count": 0,
      "outputs": [
        {
          "output_type": "execute_result",
          "data": {
            "text/html": [
              "<div>\n",
              "<style scoped>\n",
              "    .dataframe tbody tr th:only-of-type {\n",
              "        vertical-align: middle;\n",
              "    }\n",
              "\n",
              "    .dataframe tbody tr th {\n",
              "        vertical-align: top;\n",
              "    }\n",
              "\n",
              "    .dataframe thead th {\n",
              "        text-align: right;\n",
              "    }\n",
              "</style>\n",
              "<table border=\"1\" class=\"dataframe\">\n",
              "  <thead>\n",
              "    <tr style=\"text-align: right;\">\n",
              "      <th></th>\n",
              "      <th>id</th>\n",
              "      <th>season</th>\n",
              "      <th>division</th>\n",
              "      <th>round</th>\n",
              "      <th>localTeam</th>\n",
              "      <th>visitorTeam</th>\n",
              "      <th>localGoals</th>\n",
              "      <th>visitorGoals</th>\n",
              "      <th>date</th>\n",
              "      <th>timestamp</th>\n",
              "    </tr>\n",
              "  </thead>\n",
              "  <tbody>\n",
              "    <tr>\n",
              "      <th>0</th>\n",
              "      <td>1</td>\n",
              "      <td>1970-71</td>\n",
              "      <td>1</td>\n",
              "      <td>1</td>\n",
              "      <td>Atletico de Bilbao</td>\n",
              "      <td>Barcelona</td>\n",
              "      <td>1</td>\n",
              "      <td>1</td>\n",
              "      <td>12/09/1970</td>\n",
              "      <td>21938400</td>\n",
              "    </tr>\n",
              "    <tr>\n",
              "      <th>1</th>\n",
              "      <td>2</td>\n",
              "      <td>1970-71</td>\n",
              "      <td>1</td>\n",
              "      <td>1</td>\n",
              "      <td>Las Palmas</td>\n",
              "      <td>Atletico de Madrid</td>\n",
              "      <td>1</td>\n",
              "      <td>1</td>\n",
              "      <td>12/09/1970</td>\n",
              "      <td>21938400</td>\n",
              "    </tr>\n",
              "    <tr>\n",
              "      <th>2</th>\n",
              "      <td>3</td>\n",
              "      <td>1970-71</td>\n",
              "      <td>1</td>\n",
              "      <td>1</td>\n",
              "      <td>Real Madrid</td>\n",
              "      <td>Valencia</td>\n",
              "      <td>2</td>\n",
              "      <td>0</td>\n",
              "      <td>12/09/1970</td>\n",
              "      <td>21938400</td>\n",
              "    </tr>\n",
              "    <tr>\n",
              "      <th>3</th>\n",
              "      <td>4</td>\n",
              "      <td>1970-71</td>\n",
              "      <td>1</td>\n",
              "      <td>1</td>\n",
              "      <td>Celta de Vigo</td>\n",
              "      <td>Sporting de Gijon</td>\n",
              "      <td>2</td>\n",
              "      <td>0</td>\n",
              "      <td>13/09/1970</td>\n",
              "      <td>22024800</td>\n",
              "    </tr>\n",
              "    <tr>\n",
              "      <th>4</th>\n",
              "      <td>5</td>\n",
              "      <td>1970-71</td>\n",
              "      <td>1</td>\n",
              "      <td>1</td>\n",
              "      <td>Elche</td>\n",
              "      <td>Granada</td>\n",
              "      <td>1</td>\n",
              "      <td>1</td>\n",
              "      <td>13/09/1970</td>\n",
              "      <td>22024800</td>\n",
              "    </tr>\n",
              "    <tr>\n",
              "      <th>...</th>\n",
              "      <td>...</td>\n",
              "      <td>...</td>\n",
              "      <td>...</td>\n",
              "      <td>...</td>\n",
              "      <td>...</td>\n",
              "      <td>...</td>\n",
              "      <td>...</td>\n",
              "      <td>...</td>\n",
              "      <td>...</td>\n",
              "      <td>...</td>\n",
              "    </tr>\n",
              "    <tr>\n",
              "      <th>37142</th>\n",
              "      <td>37143</td>\n",
              "      <td>2017-18</td>\n",
              "      <td>2</td>\n",
              "      <td>42</td>\n",
              "      <td>Valladolid</td>\n",
              "      <td>Osasuna</td>\n",
              "      <td>2</td>\n",
              "      <td>0</td>\n",
              "      <td>02/06/2018</td>\n",
              "      <td>1527890400</td>\n",
              "    </tr>\n",
              "    <tr>\n",
              "      <th>37143</th>\n",
              "      <td>37144</td>\n",
              "      <td>2017-18</td>\n",
              "      <td>2</td>\n",
              "      <td>42</td>\n",
              "      <td>Oviedo</td>\n",
              "      <td>Huesca</td>\n",
              "      <td>2</td>\n",
              "      <td>1</td>\n",
              "      <td>02/06/2018</td>\n",
              "      <td>1527890400</td>\n",
              "    </tr>\n",
              "    <tr>\n",
              "      <th>37144</th>\n",
              "      <td>37145</td>\n",
              "      <td>2017-18</td>\n",
              "      <td>2</td>\n",
              "      <td>42</td>\n",
              "      <td>Alcorcon</td>\n",
              "      <td>Reus</td>\n",
              "      <td>3</td>\n",
              "      <td>0</td>\n",
              "      <td>02/06/2018</td>\n",
              "      <td>1527890400</td>\n",
              "    </tr>\n",
              "    <tr>\n",
              "      <th>37145</th>\n",
              "      <td>37146</td>\n",
              "      <td>2017-18</td>\n",
              "      <td>2</td>\n",
              "      <td>42</td>\n",
              "      <td>Numancia</td>\n",
              "      <td>Cultural Leonesa</td>\n",
              "      <td>2</td>\n",
              "      <td>1</td>\n",
              "      <td>02/06/2018</td>\n",
              "      <td>1527890400</td>\n",
              "    </tr>\n",
              "    <tr>\n",
              "      <th>37146</th>\n",
              "      <td>37147</td>\n",
              "      <td>2017-18</td>\n",
              "      <td>2</td>\n",
              "      <td>42</td>\n",
              "      <td>Barcelona Atletic</td>\n",
              "      <td>Zaragoza</td>\n",
              "      <td>0</td>\n",
              "      <td>2</td>\n",
              "      <td>02/06/2018</td>\n",
              "      <td>1527890400</td>\n",
              "    </tr>\n",
              "  </tbody>\n",
              "</table>\n",
              "<p>37147 rows × 10 columns</p>\n",
              "</div>"
            ],
            "text/plain": [
              "          id   season  division  ...  visitorGoals        date   timestamp\n",
              "0          1  1970-71         1  ...             1  12/09/1970    21938400\n",
              "1          2  1970-71         1  ...             1  12/09/1970    21938400\n",
              "2          3  1970-71         1  ...             0  12/09/1970    21938400\n",
              "3          4  1970-71         1  ...             0  13/09/1970    22024800\n",
              "4          5  1970-71         1  ...             1  13/09/1970    22024800\n",
              "...      ...      ...       ...  ...           ...         ...         ...\n",
              "37142  37143  2017-18         2  ...             0  02/06/2018  1527890400\n",
              "37143  37144  2017-18         2  ...             1  02/06/2018  1527890400\n",
              "37144  37145  2017-18         2  ...             0  02/06/2018  1527890400\n",
              "37145  37146  2017-18         2  ...             1  02/06/2018  1527890400\n",
              "37146  37147  2017-18         2  ...             2  02/06/2018  1527890400\n",
              "\n",
              "[37147 rows x 10 columns]"
            ]
          },
          "metadata": {
            "tags": []
          },
          "execution_count": 6
        }
      ]
    },
    {
      "cell_type": "markdown",
      "metadata": {
        "id": "CX58TVUvH-vS",
        "colab_type": "text"
      },
      "source": [
        "## 2.Segmentación de datos"
      ]
    },
    {
      "cell_type": "markdown",
      "metadata": {
        "id": "6pbze0S3EPg-",
        "colab_type": "text"
      },
      "source": [
        "Tomaremos únicamente los equipos de la primera división."
      ]
    },
    {
      "cell_type": "code",
      "metadata": {
        "id": "oPfgg7s8D-sg",
        "colab_type": "code",
        "outputId": "4df5dba3-5614-4a28-b885-68ea0c4515a3",
        "colab": {
          "base_uri": "https://localhost:8080/",
          "height": 415
        }
      },
      "source": [
        "df=data[data.division==1]\n",
        "df=df[['localTeam','visitorTeam', 'localGoals',\t'visitorGoals']]\n",
        "df"
      ],
      "execution_count": 0,
      "outputs": [
        {
          "output_type": "execute_result",
          "data": {
            "text/html": [
              "<div>\n",
              "<style scoped>\n",
              "    .dataframe tbody tr th:only-of-type {\n",
              "        vertical-align: middle;\n",
              "    }\n",
              "\n",
              "    .dataframe tbody tr th {\n",
              "        vertical-align: top;\n",
              "    }\n",
              "\n",
              "    .dataframe thead th {\n",
              "        text-align: right;\n",
              "    }\n",
              "</style>\n",
              "<table border=\"1\" class=\"dataframe\">\n",
              "  <thead>\n",
              "    <tr style=\"text-align: right;\">\n",
              "      <th></th>\n",
              "      <th>localTeam</th>\n",
              "      <th>visitorTeam</th>\n",
              "      <th>localGoals</th>\n",
              "      <th>visitorGoals</th>\n",
              "    </tr>\n",
              "  </thead>\n",
              "  <tbody>\n",
              "    <tr>\n",
              "      <th>0</th>\n",
              "      <td>Atletico de Bilbao</td>\n",
              "      <td>Barcelona</td>\n",
              "      <td>1</td>\n",
              "      <td>1</td>\n",
              "    </tr>\n",
              "    <tr>\n",
              "      <th>1</th>\n",
              "      <td>Las Palmas</td>\n",
              "      <td>Atletico de Madrid</td>\n",
              "      <td>1</td>\n",
              "      <td>1</td>\n",
              "    </tr>\n",
              "    <tr>\n",
              "      <th>2</th>\n",
              "      <td>Real Madrid</td>\n",
              "      <td>Valencia</td>\n",
              "      <td>2</td>\n",
              "      <td>0</td>\n",
              "    </tr>\n",
              "    <tr>\n",
              "      <th>3</th>\n",
              "      <td>Celta de Vigo</td>\n",
              "      <td>Sporting de Gijon</td>\n",
              "      <td>2</td>\n",
              "      <td>0</td>\n",
              "    </tr>\n",
              "    <tr>\n",
              "      <th>4</th>\n",
              "      <td>Elche</td>\n",
              "      <td>Granada</td>\n",
              "      <td>1</td>\n",
              "      <td>1</td>\n",
              "    </tr>\n",
              "    <tr>\n",
              "      <th>...</th>\n",
              "      <td>...</td>\n",
              "      <td>...</td>\n",
              "      <td>...</td>\n",
              "      <td>...</td>\n",
              "    </tr>\n",
              "    <tr>\n",
              "      <th>36680</th>\n",
              "      <td>Villarreal</td>\n",
              "      <td>Real Madrid</td>\n",
              "      <td>2</td>\n",
              "      <td>2</td>\n",
              "    </tr>\n",
              "    <tr>\n",
              "      <th>36681</th>\n",
              "      <td>Atletico de Bilbao</td>\n",
              "      <td>Espanol</td>\n",
              "      <td>0</td>\n",
              "      <td>1</td>\n",
              "    </tr>\n",
              "    <tr>\n",
              "      <th>36682</th>\n",
              "      <td>Barcelona</td>\n",
              "      <td>Real Sociedad</td>\n",
              "      <td>1</td>\n",
              "      <td>0</td>\n",
              "    </tr>\n",
              "    <tr>\n",
              "      <th>36683</th>\n",
              "      <td>Valencia</td>\n",
              "      <td>Deportivo</td>\n",
              "      <td>2</td>\n",
              "      <td>1</td>\n",
              "    </tr>\n",
              "    <tr>\n",
              "      <th>36684</th>\n",
              "      <td>Atletico de Madrid</td>\n",
              "      <td>Eibar</td>\n",
              "      <td>2</td>\n",
              "      <td>2</td>\n",
              "    </tr>\n",
              "  </tbody>\n",
              "</table>\n",
              "<p>17169 rows × 4 columns</p>\n",
              "</div>"
            ],
            "text/plain": [
              "                localTeam         visitorTeam  localGoals  visitorGoals\n",
              "0      Atletico de Bilbao           Barcelona           1             1\n",
              "1              Las Palmas  Atletico de Madrid           1             1\n",
              "2             Real Madrid            Valencia           2             0\n",
              "3           Celta de Vigo   Sporting de Gijon           2             0\n",
              "4                   Elche             Granada           1             1\n",
              "...                   ...                 ...         ...           ...\n",
              "36680          Villarreal         Real Madrid           2             2\n",
              "36681  Atletico de Bilbao             Espanol           0             1\n",
              "36682           Barcelona       Real Sociedad           1             0\n",
              "36683            Valencia           Deportivo           2             1\n",
              "36684  Atletico de Madrid               Eibar           2             2\n",
              "\n",
              "[17169 rows x 4 columns]"
            ]
          },
          "metadata": {
            "tags": []
          },
          "execution_count": 7
        }
      ]
    },
    {
      "cell_type": "markdown",
      "metadata": {
        "id": "T2uvbY56EZIt",
        "colab_type": "text"
      },
      "source": [
        "Como vemos, tenemos 17169 resgistros de partidos de 1a división."
      ]
    },
    {
      "cell_type": "markdown",
      "metadata": {
        "id": "hkSq7Kr1OQ07",
        "colab_type": "text"
      },
      "source": [
        "## 3.Funciones de probabilidad"
      ]
    },
    {
      "cell_type": "markdown",
      "metadata": {
        "id": "zxwXA2TcOX6Y",
        "colab_type": "text"
      },
      "source": [
        "**Función partido**\n",
        "\n",
        "Halla la probabilidad de victoria, empate y derrota para 2 equipos dados."
      ]
    },
    {
      "cell_type": "code",
      "metadata": {
        "id": "0SSG12pWumLr",
        "colab_type": "code",
        "colab": {}
      },
      "source": [
        "def partido(local, visitante):\n",
        "    Win= data[(data.localTeam==local) & (data.visitorTeam==visitante) & (data.localGoals>data.visitorGoals)]\n",
        "    empatar = data[(data.localTeam==local) & (data.visitorTeam==visitante) & (data.localGoals==data.visitorGoals)]\n",
        "\n",
        "    probWin = (Win.shape[0])/(data[(data.localTeam==local) & (data.visitorTeam==visitante)].shape[0]) \n",
        "    probEmp = (empatar.shape[0])/(data[(data.localTeam==local) & (data.visitorTeam==visitante)].shape[0])\n",
        "\n",
        "    probLoss = 1-probWin-probEmp\n",
        "    \n",
        "    return probWin, probEmp, probLoss\n"
      ],
      "execution_count": 0,
      "outputs": []
    },
    {
      "cell_type": "code",
      "metadata": {
        "id": "QeXVJVOl1ekF",
        "colab_type": "code",
        "outputId": "a6203db4-bf07-4b1c-8f83-4de5f7d918be",
        "colab": {
          "base_uri": "https://localhost:8080/",
          "height": 34
        }
      },
      "source": [
        "partido(\"Barcelona\", \"Real Madrid\")"
      ],
      "execution_count": 0,
      "outputs": [
        {
          "output_type": "execute_result",
          "data": {
            "text/plain": [
              "(0.5918367346938775, 0.24489795918367346, 0.163265306122449)"
            ]
          },
          "metadata": {
            "tags": []
          },
          "execution_count": 9
        }
      ]
    },
    {
      "cell_type": "markdown",
      "metadata": {
        "id": "IVs1orxhNveg",
        "colab_type": "text"
      },
      "source": [
        "**Función puntosPartido**\n",
        "\n",
        "Función para, una vez conocidos las probabilidades de victoria o derrota, pueda determinar mediante numeros aleatorios el resultado del encuentro entre 2 equipos, recibe como parametro el resultado de la función partido."
      ]
    },
    {
      "cell_type": "code",
      "metadata": {
        "id": "LM83FxYi4eYA",
        "colab_type": "code",
        "colab": {}
      },
      "source": [
        "def puntosPartido(prob):\n",
        "  i = np.random.random()\n",
        "  puntosLocal=0;\n",
        "  puntosVisit=0;\n",
        "  if i <= prob[0]: %victoria\n",
        "    puntosLocal=3\n",
        "    puntosVisit=0\n",
        "  elif (i>prob[0] and i<(prob[1]+prob[0])): %empate\n",
        "    puntosLocal=1\n",
        "    puntosVisit=1\n",
        "  else:  %derrota\n",
        "    puntosLocal =0\n",
        "    puntosVisit=3\n",
        "    \n",
        "  return puntosLocal, puntosVisit"
      ],
      "execution_count": 0,
      "outputs": []
    },
    {
      "cell_type": "code",
      "metadata": {
        "id": "BOoQcEfj-8NQ",
        "colab_type": "code",
        "outputId": "7421d8bf-bd92-41a8-d8cf-43733ad6cc61",
        "colab": {
          "base_uri": "https://localhost:8080/",
          "height": 34
        }
      },
      "source": [
        "puntosPartido(partido(\"Barcelona\", \"Real Madrid\"))"
      ],
      "execution_count": 0,
      "outputs": [
        {
          "output_type": "execute_result",
          "data": {
            "text/plain": [
              "(1, 1)"
            ]
          },
          "metadata": {
            "tags": []
          },
          "execution_count": 11
        }
      ]
    },
    {
      "cell_type": "markdown",
      "metadata": {
        "id": "2-B_5C3hPsDZ",
        "colab_type": "text"
      },
      "source": [
        "## 4.Generar tabla de encuentros"
      ]
    },
    {
      "cell_type": "markdown",
      "metadata": {
        "id": "SXdl2LygS5zM",
        "colab_type": "text"
      },
      "source": [
        "Vamos a generar todos los encuentros que tendrá cada equipo"
      ]
    },
    {
      "cell_type": "code",
      "metadata": {
        "id": "KHKhjp_uS_1c",
        "colab_type": "code",
        "outputId": "0fade02a-f16e-4e52-8377-121881ac4019",
        "colab": {
          "base_uri": "https://localhost:8080/",
          "height": 191
        }
      },
      "source": [
        "print (np.sort(df.localTeam.unique()))"
      ],
      "execution_count": 0,
      "outputs": [
        {
          "output_type": "stream",
          "text": [
            "['AD Almeria' 'Alaves' 'Albacete' 'Almeria' 'Atletico de Bilbao'\n",
            " 'Atletico de Madrid' 'Barcelona' 'Betis' 'Burgos' 'CD Malaga' 'Cadiz'\n",
            " 'Castellon' 'Celta de Vigo' 'Compostela' 'Cordoba' 'Deportivo' 'Eibar'\n",
            " 'Elche' 'Espanol' 'Extremadura' 'Getafe' 'Gimnastic de Tarragona'\n",
            " 'Girona' 'Granada' 'Hercules' 'Las Palmas' 'Leganes' 'Levante' 'Lleida'\n",
            " 'Logrones' 'Malaga' 'Mallorca' 'Merida' 'Murcia' 'Numancia' 'Osasuna'\n",
            " 'Oviedo' 'Rayo Vallecano' 'Real Burgos' 'Real Madrid' 'Real Sociedad'\n",
            " 'Recreativo de Huelva' 'Sabadell' 'Salamanca' 'Santander' 'Sevilla'\n",
            " 'Sporting de Gijon' 'Tenerife' 'Valencia' 'Valladolid' 'Villarreal'\n",
            " 'Xerez' 'Zaragoza']\n"
          ],
          "name": "stdout"
        }
      ]
    },
    {
      "cell_type": "code",
      "metadata": {
        "id": "KZoU_R4XTInO",
        "colab_type": "code",
        "outputId": "bf1efa5d-0ffc-46e4-d44d-00a2e859894e",
        "colab": {
          "base_uri": "https://localhost:8080/",
          "height": 34
        }
      },
      "source": [
        "df.localTeam.unique().shape"
      ],
      "execution_count": 0,
      "outputs": [
        {
          "output_type": "execute_result",
          "data": {
            "text/plain": [
              "(53,)"
            ]
          },
          "metadata": {
            "tags": []
          },
          "execution_count": 13
        }
      ]
    },
    {
      "cell_type": "markdown",
      "metadata": {
        "id": "js0qNlYljUla",
        "colab_type": "text"
      },
      "source": [
        "Seleccionamos nuestros 20 equipos para que jueguen La Liga (Esta es la temporada 2019-20)"
      ]
    },
    {
      "cell_type": "code",
      "metadata": {
        "id": "o-6UJ7mIjZze",
        "colab_type": "code",
        "colab": {}
      },
      "source": [
        "a = np.array(['Barcelona','Real Madrid','Sevilla','Real Sociedad','Getafe','Atletico de Madrid',\n",
        "              'Valencia','Villarreal','Granada','Atletico de Bilbao','Osasuna','Betis',\n",
        "              'Levante','Alaves','Valladolid','Eibar','Celta de Vigo','Mallorca',\n",
        "              'Leganes','Espanol'])"
      ],
      "execution_count": 0,
      "outputs": []
    },
    {
      "cell_type": "code",
      "metadata": {
        "id": "GekHJglbYOBZ",
        "colab_type": "code",
        "colab": {}
      },
      "source": [
        "#np.delete(df.localTeam.unique(),0)"
      ],
      "execution_count": 0,
      "outputs": []
    },
    {
      "cell_type": "markdown",
      "metadata": {
        "id": "30dZxjsMuFix",
        "colab_type": "text"
      },
      "source": [
        "## 5.Simulación de La Liga"
      ]
    },
    {
      "cell_type": "markdown",
      "metadata": {
        "id": "t2K3tkhVroFJ",
        "colab_type": "text"
      },
      "source": [
        "Simulamos todos los encuentros y por cada uno determinamos el resultado (los puntos para cada equipo)"
      ]
    },
    {
      "cell_type": "code",
      "metadata": {
        "id": "XFKVmYPXVBew",
        "colab_type": "code",
        "colab": {}
      },
      "source": [
        "c=[]\n",
        "for i in range(len(a)):\n",
        "  b=np.delete(a,i)\n",
        "  for j in b:\n",
        "    d=puntosPartido(partido(a[i],j))\n",
        "    c.append([a[i],j,d[0],d[1]])"
      ],
      "execution_count": 0,
      "outputs": []
    },
    {
      "cell_type": "code",
      "metadata": {
        "id": "gI-EGdKkhfLz",
        "colab_type": "code",
        "outputId": "d9409df2-35eb-4101-ca9c-1cb19b1da1b8",
        "colab": {
          "base_uri": "https://localhost:8080/",
          "height": 1000
        }
      },
      "source": [
        "c"
      ],
      "execution_count": 0,
      "outputs": [
        {
          "output_type": "execute_result",
          "data": {
            "text/plain": [
              "[['Barcelona', 'Real Madrid', 3, 0],\n",
              " ['Barcelona', 'Sevilla', 3, 0],\n",
              " ['Barcelona', 'Real Sociedad', 3, 0],\n",
              " ['Barcelona', 'Getafe', 3, 0],\n",
              " ['Barcelona', 'Atletico de Madrid', 1, 1],\n",
              " ['Barcelona', 'Valencia', 3, 0],\n",
              " ['Barcelona', 'Villarreal', 3, 0],\n",
              " ['Barcelona', 'Granada', 3, 0],\n",
              " ['Barcelona', 'Atletico de Bilbao', 3, 0],\n",
              " ['Barcelona', 'Osasuna', 3, 0],\n",
              " ['Barcelona', 'Betis', 3, 0],\n",
              " ['Barcelona', 'Levante', 3, 0],\n",
              " ['Barcelona', 'Alaves', 3, 0],\n",
              " ['Barcelona', 'Valladolid', 0, 3],\n",
              " ['Barcelona', 'Eibar', 3, 0],\n",
              " ['Barcelona', 'Celta de Vigo', 3, 0],\n",
              " ['Barcelona', 'Mallorca', 3, 0],\n",
              " ['Barcelona', 'Leganes', 3, 0],\n",
              " ['Barcelona', 'Espanol', 3, 0],\n",
              " ['Real Madrid', 'Barcelona', 3, 0],\n",
              " ['Real Madrid', 'Sevilla', 3, 0],\n",
              " ['Real Madrid', 'Real Sociedad', 3, 0],\n",
              " ['Real Madrid', 'Getafe', 3, 0],\n",
              " ['Real Madrid', 'Atletico de Madrid', 1, 1],\n",
              " ['Real Madrid', 'Valencia', 3, 0],\n",
              " ['Real Madrid', 'Villarreal', 1, 1],\n",
              " ['Real Madrid', 'Granada', 3, 0],\n",
              " ['Real Madrid', 'Atletico de Bilbao', 3, 0],\n",
              " ['Real Madrid', 'Osasuna', 3, 0],\n",
              " ['Real Madrid', 'Betis', 3, 0],\n",
              " ['Real Madrid', 'Levante', 3, 0],\n",
              " ['Real Madrid', 'Alaves', 3, 0],\n",
              " ['Real Madrid', 'Valladolid', 3, 0],\n",
              " ['Real Madrid', 'Eibar', 3, 0],\n",
              " ['Real Madrid', 'Celta de Vigo', 3, 0],\n",
              " ['Real Madrid', 'Mallorca', 3, 0],\n",
              " ['Real Madrid', 'Leganes', 3, 0],\n",
              " ['Real Madrid', 'Espanol', 3, 0],\n",
              " ['Sevilla', 'Barcelona', 1, 1],\n",
              " ['Sevilla', 'Real Madrid', 3, 0],\n",
              " ['Sevilla', 'Real Sociedad', 3, 0],\n",
              " ['Sevilla', 'Getafe', 1, 1],\n",
              " ['Sevilla', 'Atletico de Madrid', 0, 3],\n",
              " ['Sevilla', 'Valencia', 3, 0],\n",
              " ['Sevilla', 'Villarreal', 0, 3],\n",
              " ['Sevilla', 'Granada', 0, 3],\n",
              " ['Sevilla', 'Atletico de Bilbao', 1, 1],\n",
              " ['Sevilla', 'Osasuna', 1, 1],\n",
              " ['Sevilla', 'Betis', 3, 0],\n",
              " ['Sevilla', 'Levante', 3, 0],\n",
              " ['Sevilla', 'Alaves', 3, 0],\n",
              " ['Sevilla', 'Valladolid', 1, 1],\n",
              " ['Sevilla', 'Eibar', 1, 1],\n",
              " ['Sevilla', 'Celta de Vigo', 0, 3],\n",
              " ['Sevilla', 'Mallorca', 3, 0],\n",
              " ['Sevilla', 'Leganes', 1, 1],\n",
              " ['Sevilla', 'Espanol', 1, 1],\n",
              " ['Real Sociedad', 'Barcelona', 3, 0],\n",
              " ['Real Sociedad', 'Real Madrid', 0, 3],\n",
              " ['Real Sociedad', 'Sevilla', 1, 1],\n",
              " ['Real Sociedad', 'Getafe', 1, 1],\n",
              " ['Real Sociedad', 'Atletico de Madrid', 3, 0],\n",
              " ['Real Sociedad', 'Valencia', 0, 3],\n",
              " ['Real Sociedad', 'Villarreal', 0, 3],\n",
              " ['Real Sociedad', 'Granada', 1, 1],\n",
              " ['Real Sociedad', 'Atletico de Bilbao', 1, 1],\n",
              " ['Real Sociedad', 'Osasuna', 3, 0],\n",
              " ['Real Sociedad', 'Betis', 0, 3],\n",
              " ['Real Sociedad', 'Levante', 3, 0],\n",
              " ['Real Sociedad', 'Alaves', 3, 0],\n",
              " ['Real Sociedad', 'Valladolid', 3, 0],\n",
              " ['Real Sociedad', 'Eibar', 3, 0],\n",
              " ['Real Sociedad', 'Celta de Vigo', 3, 0],\n",
              " ['Real Sociedad', 'Mallorca', 3, 0],\n",
              " ['Real Sociedad', 'Leganes', 3, 0],\n",
              " ['Real Sociedad', 'Espanol', 3, 0],\n",
              " ['Getafe', 'Barcelona', 0, 3],\n",
              " ['Getafe', 'Real Madrid', 0, 3],\n",
              " ['Getafe', 'Sevilla', 3, 0],\n",
              " ['Getafe', 'Real Sociedad', 0, 3],\n",
              " ['Getafe', 'Atletico de Madrid', 0, 3],\n",
              " ['Getafe', 'Valencia', 3, 0],\n",
              " ['Getafe', 'Villarreal', 1, 1],\n",
              " ['Getafe', 'Granada', 1, 1],\n",
              " ['Getafe', 'Atletico de Bilbao', 1, 1],\n",
              " ['Getafe', 'Osasuna', 1, 1],\n",
              " ['Getafe', 'Betis', 0, 3],\n",
              " ['Getafe', 'Levante', 0, 3],\n",
              " ['Getafe', 'Alaves', 1, 1],\n",
              " ['Getafe', 'Valladolid', 3, 0],\n",
              " ['Getafe', 'Eibar', 1, 1],\n",
              " ['Getafe', 'Celta de Vigo', 3, 0],\n",
              " ['Getafe', 'Mallorca', 3, 0],\n",
              " ['Getafe', 'Leganes', 1, 1],\n",
              " ['Getafe', 'Espanol', 1, 1],\n",
              " ['Atletico de Madrid', 'Barcelona', 3, 0],\n",
              " ['Atletico de Madrid', 'Real Madrid', 0, 3],\n",
              " ['Atletico de Madrid', 'Sevilla', 1, 1],\n",
              " ['Atletico de Madrid', 'Real Sociedad', 0, 3],\n",
              " ['Atletico de Madrid', 'Getafe', 3, 0],\n",
              " ['Atletico de Madrid', 'Valencia', 1, 1],\n",
              " ['Atletico de Madrid', 'Villarreal', 3, 0],\n",
              " ['Atletico de Madrid', 'Granada', 3, 0],\n",
              " ['Atletico de Madrid', 'Atletico de Bilbao', 0, 3],\n",
              " ['Atletico de Madrid', 'Osasuna', 3, 0],\n",
              " ['Atletico de Madrid', 'Betis', 3, 0],\n",
              " ['Atletico de Madrid', 'Levante', 1, 1],\n",
              " ['Atletico de Madrid', 'Alaves', 0, 3],\n",
              " ['Atletico de Madrid', 'Valladolid', 0, 3],\n",
              " ['Atletico de Madrid', 'Eibar', 1, 1],\n",
              " ['Atletico de Madrid', 'Celta de Vigo', 0, 3],\n",
              " ['Atletico de Madrid', 'Mallorca', 3, 0],\n",
              " ['Atletico de Madrid', 'Leganes', 0, 3],\n",
              " ['Atletico de Madrid', 'Espanol', 1, 1],\n",
              " ['Valencia', 'Barcelona', 0, 3],\n",
              " ['Valencia', 'Real Madrid', 0, 3],\n",
              " ['Valencia', 'Sevilla', 3, 0],\n",
              " ['Valencia', 'Real Sociedad', 1, 1],\n",
              " ['Valencia', 'Getafe', 3, 0],\n",
              " ['Valencia', 'Atletico de Madrid', 1, 1],\n",
              " ['Valencia', 'Villarreal', 0, 3],\n",
              " ['Valencia', 'Granada', 3, 0],\n",
              " ['Valencia', 'Atletico de Bilbao', 3, 0],\n",
              " ['Valencia', 'Osasuna', 3, 0],\n",
              " ['Valencia', 'Betis', 1, 1],\n",
              " ['Valencia', 'Levante', 3, 0],\n",
              " ['Valencia', 'Alaves', 3, 0],\n",
              " ['Valencia', 'Valladolid', 3, 0],\n",
              " ['Valencia', 'Eibar', 3, 0],\n",
              " ['Valencia', 'Celta de Vigo', 0, 3],\n",
              " ['Valencia', 'Mallorca', 3, 0],\n",
              " ['Valencia', 'Leganes', 3, 0],\n",
              " ['Valencia', 'Espanol', 3, 0],\n",
              " ['Villarreal', 'Barcelona', 3, 0],\n",
              " ['Villarreal', 'Real Madrid', 3, 0],\n",
              " ['Villarreal', 'Sevilla', 1, 1],\n",
              " ['Villarreal', 'Real Sociedad', 3, 0],\n",
              " ['Villarreal', 'Getafe', 3, 0],\n",
              " ['Villarreal', 'Atletico de Madrid', 1, 1],\n",
              " ['Villarreal', 'Valencia', 1, 1],\n",
              " ['Villarreal', 'Granada', 3, 0],\n",
              " ['Villarreal', 'Atletico de Bilbao', 1, 1],\n",
              " ['Villarreal', 'Osasuna', 3, 0],\n",
              " ['Villarreal', 'Betis', 0, 3],\n",
              " ['Villarreal', 'Levante', 3, 0],\n",
              " ['Villarreal', 'Alaves', 3, 0],\n",
              " ['Villarreal', 'Valladolid', 3, 0],\n",
              " ['Villarreal', 'Eibar', 3, 0],\n",
              " ['Villarreal', 'Celta de Vigo', 3, 0],\n",
              " ['Villarreal', 'Mallorca', 0, 3],\n",
              " ['Villarreal', 'Leganes', 3, 0],\n",
              " ['Villarreal', 'Espanol', 1, 1],\n",
              " ['Granada', 'Barcelona', 0, 3],\n",
              " ['Granada', 'Real Madrid', 3, 0],\n",
              " ['Granada', 'Sevilla', 1, 1],\n",
              " ['Granada', 'Real Sociedad', 1, 1],\n",
              " ['Granada', 'Getafe', 3, 0],\n",
              " ['Granada', 'Atletico de Madrid', 0, 3],\n",
              " ['Granada', 'Valencia', 1, 1],\n",
              " ['Granada', 'Villarreal', 3, 0],\n",
              " ['Granada', 'Atletico de Bilbao', 1, 1],\n",
              " ['Granada', 'Osasuna', 1, 1],\n",
              " ['Granada', 'Betis', 3, 0],\n",
              " ['Granada', 'Levante', 1, 1],\n",
              " ['Granada', 'Alaves', 0, 3],\n",
              " ['Granada', 'Valladolid', 3, 0],\n",
              " ['Granada', 'Eibar', 1, 1],\n",
              " ['Granada', 'Celta de Vigo', 1, 1],\n",
              " ['Granada', 'Mallorca', 1, 1],\n",
              " ['Granada', 'Leganes', 0, 3],\n",
              " ['Granada', 'Espanol', 1, 1],\n",
              " ['Atletico de Bilbao', 'Barcelona', 3, 0],\n",
              " ['Atletico de Bilbao', 'Real Madrid', 1, 1],\n",
              " ['Atletico de Bilbao', 'Sevilla', 3, 0],\n",
              " ['Atletico de Bilbao', 'Real Sociedad', 3, 0],\n",
              " ['Atletico de Bilbao', 'Getafe', 3, 0],\n",
              " ['Atletico de Bilbao', 'Atletico de Madrid', 1, 1],\n",
              " ['Atletico de Bilbao', 'Valencia', 1, 1],\n",
              " ['Atletico de Bilbao', 'Villarreal', 3, 0],\n",
              " ['Atletico de Bilbao', 'Granada', 0, 3],\n",
              " ['Atletico de Bilbao', 'Osasuna', 3, 0],\n",
              " ['Atletico de Bilbao', 'Betis', 1, 1],\n",
              " ['Atletico de Bilbao', 'Levante', 0, 3],\n",
              " ['Atletico de Bilbao', 'Alaves', 3, 0],\n",
              " ['Atletico de Bilbao', 'Valladolid', 0, 3],\n",
              " ['Atletico de Bilbao', 'Eibar', 3, 0],\n",
              " ['Atletico de Bilbao', 'Celta de Vigo', 3, 0],\n",
              " ['Atletico de Bilbao', 'Mallorca', 3, 0],\n",
              " ['Atletico de Bilbao', 'Leganes', 3, 0],\n",
              " ['Atletico de Bilbao', 'Espanol', 1, 1],\n",
              " ['Osasuna', 'Barcelona', 3, 0],\n",
              " ['Osasuna', 'Real Madrid', 0, 3],\n",
              " ['Osasuna', 'Sevilla', 1, 1],\n",
              " ['Osasuna', 'Real Sociedad', 1, 1],\n",
              " ['Osasuna', 'Getafe', 1, 1],\n",
              " ['Osasuna', 'Atletico de Madrid', 1, 1],\n",
              " ['Osasuna', 'Valencia', 0, 3],\n",
              " ['Osasuna', 'Villarreal', 3, 0],\n",
              " ['Osasuna', 'Granada', 0, 3],\n",
              " ['Osasuna', 'Atletico de Bilbao', 0, 3],\n",
              " ['Osasuna', 'Betis', 0, 3],\n",
              " ['Osasuna', 'Levante', 3, 0],\n",
              " ['Osasuna', 'Alaves', 0, 3],\n",
              " ['Osasuna', 'Valladolid', 3, 0],\n",
              " ['Osasuna', 'Eibar', 3, 0],\n",
              " ['Osasuna', 'Celta de Vigo', 3, 0],\n",
              " ['Osasuna', 'Mallorca', 3, 0],\n",
              " ['Osasuna', 'Leganes', 0, 3],\n",
              " ['Osasuna', 'Espanol', 3, 0],\n",
              " ['Betis', 'Barcelona', 3, 0],\n",
              " ['Betis', 'Real Madrid', 0, 3],\n",
              " ['Betis', 'Sevilla', 1, 1],\n",
              " ['Betis', 'Real Sociedad', 3, 0],\n",
              " ['Betis', 'Getafe', 3, 0],\n",
              " ['Betis', 'Atletico de Madrid', 0, 3],\n",
              " ['Betis', 'Valencia', 3, 0],\n",
              " ['Betis', 'Villarreal', 1, 1],\n",
              " ['Betis', 'Granada', 3, 0],\n",
              " ['Betis', 'Atletico de Bilbao', 3, 0],\n",
              " ['Betis', 'Osasuna', 1, 1],\n",
              " ['Betis', 'Levante', 3, 0],\n",
              " ['Betis', 'Alaves', 3, 0],\n",
              " ['Betis', 'Valladolid', 1, 1],\n",
              " ['Betis', 'Eibar', 1, 1],\n",
              " ['Betis', 'Celta de Vigo', 0, 3],\n",
              " ['Betis', 'Mallorca', 3, 0],\n",
              " ['Betis', 'Leganes', 3, 0],\n",
              " ['Betis', 'Espanol', 3, 0],\n",
              " ['Levante', 'Barcelona', 1, 1],\n",
              " ['Levante', 'Real Madrid', 0, 3],\n",
              " ['Levante', 'Sevilla', 0, 3],\n",
              " ['Levante', 'Real Sociedad', 3, 0],\n",
              " ['Levante', 'Getafe', 1, 1],\n",
              " ['Levante', 'Atletico de Madrid', 0, 3],\n",
              " ['Levante', 'Valencia', 0, 3],\n",
              " ['Levante', 'Villarreal', 0, 3],\n",
              " ['Levante', 'Granada', 3, 0],\n",
              " ['Levante', 'Atletico de Bilbao', 0, 3],\n",
              " ['Levante', 'Osasuna', 3, 0],\n",
              " ['Levante', 'Betis', 0, 3],\n",
              " ['Levante', 'Alaves', 1, 1],\n",
              " ['Levante', 'Valladolid', 3, 0],\n",
              " ['Levante', 'Eibar', 3, 0],\n",
              " ['Levante', 'Celta de Vigo', 1, 1],\n",
              " ['Levante', 'Mallorca', 1, 1],\n",
              " ['Levante', 'Leganes', 1, 1],\n",
              " ['Levante', 'Espanol', 0, 3],\n",
              " ['Alaves', 'Barcelona', 0, 3],\n",
              " ['Alaves', 'Real Madrid', 0, 3],\n",
              " ['Alaves', 'Sevilla', 3, 0],\n",
              " ['Alaves', 'Real Sociedad', 3, 0],\n",
              " ['Alaves', 'Getafe', 3, 0],\n",
              " ['Alaves', 'Atletico de Madrid', 0, 3],\n",
              " ['Alaves', 'Valencia', 1, 1],\n",
              " ['Alaves', 'Villarreal', 3, 0],\n",
              " ['Alaves', 'Granada', 1, 1],\n",
              " ['Alaves', 'Atletico de Bilbao', 0, 3],\n",
              " ['Alaves', 'Osasuna', 0, 3],\n",
              " ['Alaves', 'Betis', 0, 3],\n",
              " ['Alaves', 'Levante', 3, 0],\n",
              " ['Alaves', 'Valladolid', 3, 0],\n",
              " ['Alaves', 'Eibar', 0, 3],\n",
              " ['Alaves', 'Celta de Vigo', 0, 3],\n",
              " ['Alaves', 'Mallorca', 3, 0],\n",
              " ['Alaves', 'Leganes', 1, 1],\n",
              " ['Alaves', 'Espanol', 1, 1],\n",
              " ['Valladolid', 'Barcelona', 0, 3],\n",
              " ['Valladolid', 'Real Madrid', 1, 1],\n",
              " ['Valladolid', 'Sevilla', 1, 1],\n",
              " ['Valladolid', 'Real Sociedad', 1, 1],\n",
              " ['Valladolid', 'Getafe', 1, 1],\n",
              " ['Valladolid', 'Atletico de Madrid', 1, 1],\n",
              " ['Valladolid', 'Valencia', 3, 0],\n",
              " ['Valladolid', 'Villarreal', 3, 0],\n",
              " ['Valladolid', 'Granada', 3, 0],\n",
              " ['Valladolid', 'Atletico de Bilbao', 0, 3],\n",
              " ['Valladolid', 'Osasuna', 1, 1],\n",
              " ['Valladolid', 'Betis', 0, 3],\n",
              " ['Valladolid', 'Levante', 0, 3],\n",
              " ['Valladolid', 'Alaves', 1, 1],\n",
              " ['Valladolid', 'Eibar', 3, 0],\n",
              " ['Valladolid', 'Celta de Vigo', 3, 0],\n",
              " ['Valladolid', 'Mallorca', 3, 0],\n",
              " ['Valladolid', 'Leganes', 3, 0],\n",
              " ['Valladolid', 'Espanol', 1, 1],\n",
              " ['Eibar', 'Barcelona', 0, 3],\n",
              " ['Eibar', 'Real Madrid', 0, 3],\n",
              " ['Eibar', 'Sevilla', 3, 0],\n",
              " ['Eibar', 'Real Sociedad', 1, 1],\n",
              " ['Eibar', 'Getafe', 3, 0],\n",
              " ['Eibar', 'Atletico de Madrid', 0, 3],\n",
              " ['Eibar', 'Valencia', 0, 3],\n",
              " ['Eibar', 'Villarreal', 3, 0],\n",
              " ['Eibar', 'Granada', 3, 0],\n",
              " ['Eibar', 'Atletico de Bilbao', 0, 3],\n",
              " ['Eibar', 'Osasuna', 0, 3],\n",
              " ['Eibar', 'Betis', 1, 1],\n",
              " ['Eibar', 'Levante', 1, 1],\n",
              " ['Eibar', 'Alaves', 3, 0],\n",
              " ['Eibar', 'Valladolid', 0, 3],\n",
              " ['Eibar', 'Celta de Vigo', 1, 1],\n",
              " ['Eibar', 'Mallorca', 0, 3],\n",
              " ['Eibar', 'Leganes', 1, 1],\n",
              " ['Eibar', 'Espanol', 1, 1],\n",
              " ['Celta de Vigo', 'Barcelona', 1, 1],\n",
              " ['Celta de Vigo', 'Real Madrid', 0, 3],\n",
              " ['Celta de Vigo', 'Sevilla', 3, 0],\n",
              " ['Celta de Vigo', 'Real Sociedad', 1, 1],\n",
              " ['Celta de Vigo', 'Getafe', 1, 1],\n",
              " ['Celta de Vigo', 'Atletico de Madrid', 1, 1],\n",
              " ['Celta de Vigo', 'Valencia', 1, 1],\n",
              " ['Celta de Vigo', 'Villarreal', 3, 0],\n",
              " ['Celta de Vigo', 'Granada', 1, 1],\n",
              " ['Celta de Vigo', 'Atletico de Bilbao', 0, 3],\n",
              " ['Celta de Vigo', 'Osasuna', 3, 0],\n",
              " ['Celta de Vigo', 'Betis', 1, 1],\n",
              " ['Celta de Vigo', 'Levante', 3, 0],\n",
              " ['Celta de Vigo', 'Alaves', 1, 1],\n",
              " ['Celta de Vigo', 'Valladolid', 3, 0],\n",
              " ['Celta de Vigo', 'Eibar', 3, 0],\n",
              " ['Celta de Vigo', 'Mallorca', 3, 0],\n",
              " ['Celta de Vigo', 'Leganes', 0, 3],\n",
              " ['Celta de Vigo', 'Espanol', 3, 0],\n",
              " ['Mallorca', 'Barcelona', 3, 0],\n",
              " ['Mallorca', 'Real Madrid', 1, 1],\n",
              " ['Mallorca', 'Sevilla', 1, 1],\n",
              " ['Mallorca', 'Real Sociedad', 0, 3],\n",
              " ['Mallorca', 'Getafe', 3, 0],\n",
              " ['Mallorca', 'Atletico de Madrid', 3, 0],\n",
              " ['Mallorca', 'Valencia', 0, 3],\n",
              " ['Mallorca', 'Villarreal', 1, 1],\n",
              " ['Mallorca', 'Granada', 1, 1],\n",
              " ['Mallorca', 'Atletico de Bilbao', 1, 1],\n",
              " ['Mallorca', 'Osasuna', 1, 1],\n",
              " ['Mallorca', 'Betis', 3, 0],\n",
              " ['Mallorca', 'Levante', 3, 0],\n",
              " ['Mallorca', 'Alaves', 3, 0],\n",
              " ['Mallorca', 'Valladolid', 1, 1],\n",
              " ['Mallorca', 'Eibar', 1, 1],\n",
              " ['Mallorca', 'Celta de Vigo', 3, 0],\n",
              " ['Mallorca', 'Leganes', 0, 3],\n",
              " ['Mallorca', 'Espanol', 3, 0],\n",
              " ['Leganes', 'Barcelona', 0, 3],\n",
              " ['Leganes', 'Real Madrid', 0, 3],\n",
              " ['Leganes', 'Sevilla', 0, 3],\n",
              " ['Leganes', 'Real Sociedad', 0, 3],\n",
              " ['Leganes', 'Getafe', 0, 3],\n",
              " ['Leganes', 'Atletico de Madrid', 1, 1],\n",
              " ['Leganes', 'Valencia', 0, 3],\n",
              " ['Leganes', 'Villarreal', 1, 1],\n",
              " ['Leganes', 'Granada', 3, 0],\n",
              " ['Leganes', 'Atletico de Bilbao', 1, 1],\n",
              " ['Leganes', 'Osasuna', 1, 1],\n",
              " ['Leganes', 'Betis', 3, 0],\n",
              " ['Leganes', 'Levante', 1, 1],\n",
              " ['Leganes', 'Alaves', 1, 1],\n",
              " ['Leganes', 'Valladolid', 3, 0],\n",
              " ['Leganes', 'Eibar', 3, 0],\n",
              " ['Leganes', 'Celta de Vigo', 3, 0],\n",
              " ['Leganes', 'Mallorca', 1, 1],\n",
              " ['Leganes', 'Espanol', 3, 0],\n",
              " ['Espanol', 'Barcelona', 1, 1],\n",
              " ['Espanol', 'Real Madrid', 0, 3],\n",
              " ['Espanol', 'Sevilla', 0, 3],\n",
              " ['Espanol', 'Real Sociedad', 1, 1],\n",
              " ['Espanol', 'Getafe', 3, 0],\n",
              " ['Espanol', 'Atletico de Madrid', 3, 0],\n",
              " ['Espanol', 'Valencia', 1, 1],\n",
              " ['Espanol', 'Villarreal', 1, 1],\n",
              " ['Espanol', 'Granada', 3, 0],\n",
              " ['Espanol', 'Atletico de Bilbao', 1, 1],\n",
              " ['Espanol', 'Osasuna', 3, 0],\n",
              " ['Espanol', 'Betis', 3, 0],\n",
              " ['Espanol', 'Levante', 1, 1],\n",
              " ['Espanol', 'Alaves', 0, 3],\n",
              " ['Espanol', 'Valladolid', 1, 1],\n",
              " ['Espanol', 'Eibar', 0, 3],\n",
              " ['Espanol', 'Celta de Vigo', 1, 1],\n",
              " ['Espanol', 'Mallorca', 3, 0],\n",
              " ['Espanol', 'Leganes', 3, 0]]"
            ]
          },
          "metadata": {
            "tags": []
          },
          "execution_count": 17
        }
      ]
    },
    {
      "cell_type": "markdown",
      "metadata": {
        "id": "0GPorlE6uQY-",
        "colab_type": "text"
      },
      "source": [
        "## 6.Resultados Obtenidos"
      ]
    },
    {
      "cell_type": "markdown",
      "metadata": {
        "id": "QZXRm_hQrvoU",
        "colab_type": "text"
      },
      "source": [
        "Convertimos los resultados, que son una lista, a numpy array y luego construimos un nuevo dataset con los resultados de toda la Liga ya jugada."
      ]
    },
    {
      "cell_type": "code",
      "metadata": {
        "id": "5egl6zz2sAL6",
        "colab_type": "code",
        "outputId": "92e98fca-e3cc-4d31-8163-09fee84f33b2",
        "colab": {
          "base_uri": "https://localhost:8080/",
          "height": 139
        }
      },
      "source": [
        "resultados=np.asarray(c)\n",
        "resultados"
      ],
      "execution_count": 0,
      "outputs": [
        {
          "output_type": "execute_result",
          "data": {
            "text/plain": [
              "array([['Barcelona', 'Real Madrid', '3', '0'],\n",
              "       ['Barcelona', 'Sevilla', '3', '0'],\n",
              "       ['Barcelona', 'Real Sociedad', '3', '0'],\n",
              "       ...,\n",
              "       ['Espanol', 'Celta de Vigo', '1', '1'],\n",
              "       ['Espanol', 'Mallorca', '3', '0'],\n",
              "       ['Espanol', 'Leganes', '3', '0']], dtype='<U18')"
            ]
          },
          "metadata": {
            "tags": []
          },
          "execution_count": 18
        }
      ]
    },
    {
      "cell_type": "markdown",
      "metadata": {
        "id": "FNMiUO4yvqCF",
        "colab_type": "text"
      },
      "source": [
        "Estos son los resultados de todos los partidos jugados"
      ]
    },
    {
      "cell_type": "code",
      "metadata": {
        "id": "jswH38t6sGpZ",
        "colab_type": "code",
        "outputId": "ba2486dc-09b9-4eda-91ab-53a5c8861463",
        "colab": {
          "base_uri": "https://localhost:8080/",
          "height": 415
        }
      },
      "source": [
        "#Ese astype(int) es porque los puntos son strings y toca convertirlos.\n",
        "laLiga=pd.DataFrame({'Local':resultados[:,0], 'Visitante':resultados[:,1], 'Puntos_Local':resultados[:,2].astype(int), 'Puntos_Visitante':resultados[:,3].astype(int)})\n",
        "laLiga"
      ],
      "execution_count": 0,
      "outputs": [
        {
          "output_type": "execute_result",
          "data": {
            "text/html": [
              "<div>\n",
              "<style scoped>\n",
              "    .dataframe tbody tr th:only-of-type {\n",
              "        vertical-align: middle;\n",
              "    }\n",
              "\n",
              "    .dataframe tbody tr th {\n",
              "        vertical-align: top;\n",
              "    }\n",
              "\n",
              "    .dataframe thead th {\n",
              "        text-align: right;\n",
              "    }\n",
              "</style>\n",
              "<table border=\"1\" class=\"dataframe\">\n",
              "  <thead>\n",
              "    <tr style=\"text-align: right;\">\n",
              "      <th></th>\n",
              "      <th>Local</th>\n",
              "      <th>Visitante</th>\n",
              "      <th>Puntos_Local</th>\n",
              "      <th>Puntos_Visitante</th>\n",
              "    </tr>\n",
              "  </thead>\n",
              "  <tbody>\n",
              "    <tr>\n",
              "      <th>0</th>\n",
              "      <td>Barcelona</td>\n",
              "      <td>Real Madrid</td>\n",
              "      <td>3</td>\n",
              "      <td>0</td>\n",
              "    </tr>\n",
              "    <tr>\n",
              "      <th>1</th>\n",
              "      <td>Barcelona</td>\n",
              "      <td>Sevilla</td>\n",
              "      <td>3</td>\n",
              "      <td>0</td>\n",
              "    </tr>\n",
              "    <tr>\n",
              "      <th>2</th>\n",
              "      <td>Barcelona</td>\n",
              "      <td>Real Sociedad</td>\n",
              "      <td>3</td>\n",
              "      <td>0</td>\n",
              "    </tr>\n",
              "    <tr>\n",
              "      <th>3</th>\n",
              "      <td>Barcelona</td>\n",
              "      <td>Getafe</td>\n",
              "      <td>3</td>\n",
              "      <td>0</td>\n",
              "    </tr>\n",
              "    <tr>\n",
              "      <th>4</th>\n",
              "      <td>Barcelona</td>\n",
              "      <td>Atletico de Madrid</td>\n",
              "      <td>1</td>\n",
              "      <td>1</td>\n",
              "    </tr>\n",
              "    <tr>\n",
              "      <th>...</th>\n",
              "      <td>...</td>\n",
              "      <td>...</td>\n",
              "      <td>...</td>\n",
              "      <td>...</td>\n",
              "    </tr>\n",
              "    <tr>\n",
              "      <th>375</th>\n",
              "      <td>Espanol</td>\n",
              "      <td>Valladolid</td>\n",
              "      <td>1</td>\n",
              "      <td>1</td>\n",
              "    </tr>\n",
              "    <tr>\n",
              "      <th>376</th>\n",
              "      <td>Espanol</td>\n",
              "      <td>Eibar</td>\n",
              "      <td>0</td>\n",
              "      <td>3</td>\n",
              "    </tr>\n",
              "    <tr>\n",
              "      <th>377</th>\n",
              "      <td>Espanol</td>\n",
              "      <td>Celta de Vigo</td>\n",
              "      <td>1</td>\n",
              "      <td>1</td>\n",
              "    </tr>\n",
              "    <tr>\n",
              "      <th>378</th>\n",
              "      <td>Espanol</td>\n",
              "      <td>Mallorca</td>\n",
              "      <td>3</td>\n",
              "      <td>0</td>\n",
              "    </tr>\n",
              "    <tr>\n",
              "      <th>379</th>\n",
              "      <td>Espanol</td>\n",
              "      <td>Leganes</td>\n",
              "      <td>3</td>\n",
              "      <td>0</td>\n",
              "    </tr>\n",
              "  </tbody>\n",
              "</table>\n",
              "<p>380 rows × 4 columns</p>\n",
              "</div>"
            ],
            "text/plain": [
              "         Local           Visitante  Puntos_Local  Puntos_Visitante\n",
              "0    Barcelona         Real Madrid             3                 0\n",
              "1    Barcelona             Sevilla             3                 0\n",
              "2    Barcelona       Real Sociedad             3                 0\n",
              "3    Barcelona              Getafe             3                 0\n",
              "4    Barcelona  Atletico de Madrid             1                 1\n",
              "..         ...                 ...           ...               ...\n",
              "375    Espanol          Valladolid             1                 1\n",
              "376    Espanol               Eibar             0                 3\n",
              "377    Espanol       Celta de Vigo             1                 1\n",
              "378    Espanol            Mallorca             3                 0\n",
              "379    Espanol             Leganes             3                 0\n",
              "\n",
              "[380 rows x 4 columns]"
            ]
          },
          "metadata": {
            "tags": []
          },
          "execution_count": 19
        }
      ]
    },
    {
      "cell_type": "code",
      "metadata": {
        "id": "grcwI6RYy8sj",
        "colab_type": "code",
        "outputId": "000aea77-cd75-4b86-8cdc-e28de4b76283",
        "colab": {
          "base_uri": "https://localhost:8080/",
          "height": 662
        }
      },
      "source": [
        "t=[]\n",
        "for i in a:\n",
        "  puntos_totales = laLiga[laLiga.Local==i].Puntos_Local.sum()+laLiga[laLiga.Visitante==i].Puntos_Visitante.sum()\n",
        "  t.append([i,puntos_totales])\n",
        "\n",
        "t2=np.asarray(t)\n",
        "tablaPosiciones=pd.DataFrame({\"Equipo\":t2[:,0], \"Puntos\":t2[:,1]})\n",
        "tablaPosiciones"
      ],
      "execution_count": 0,
      "outputs": [
        {
          "output_type": "execute_result",
          "data": {
            "text/html": [
              "<div>\n",
              "<style scoped>\n",
              "    .dataframe tbody tr th:only-of-type {\n",
              "        vertical-align: middle;\n",
              "    }\n",
              "\n",
              "    .dataframe tbody tr th {\n",
              "        vertical-align: top;\n",
              "    }\n",
              "\n",
              "    .dataframe thead th {\n",
              "        text-align: right;\n",
              "    }\n",
              "</style>\n",
              "<table border=\"1\" class=\"dataframe\">\n",
              "  <thead>\n",
              "    <tr style=\"text-align: right;\">\n",
              "      <th></th>\n",
              "      <th>Equipo</th>\n",
              "      <th>Puntos</th>\n",
              "    </tr>\n",
              "  </thead>\n",
              "  <tbody>\n",
              "    <tr>\n",
              "      <th>0</th>\n",
              "      <td>Barcelona</td>\n",
              "      <td>77</td>\n",
              "    </tr>\n",
              "    <tr>\n",
              "      <th>1</th>\n",
              "      <td>Real Madrid</td>\n",
              "      <td>92</td>\n",
              "    </tr>\n",
              "    <tr>\n",
              "      <th>2</th>\n",
              "      <td>Sevilla</td>\n",
              "      <td>46</td>\n",
              "    </tr>\n",
              "    <tr>\n",
              "      <th>3</th>\n",
              "      <td>Real Sociedad</td>\n",
              "      <td>56</td>\n",
              "    </tr>\n",
              "    <tr>\n",
              "      <th>4</th>\n",
              "      <td>Getafe</td>\n",
              "      <td>32</td>\n",
              "    </tr>\n",
              "    <tr>\n",
              "      <th>5</th>\n",
              "      <td>Atletico de Madrid</td>\n",
              "      <td>56</td>\n",
              "    </tr>\n",
              "    <tr>\n",
              "      <th>6</th>\n",
              "      <td>Valencia</td>\n",
              "      <td>64</td>\n",
              "    </tr>\n",
              "    <tr>\n",
              "      <th>7</th>\n",
              "      <td>Villarreal</td>\n",
              "      <td>59</td>\n",
              "    </tr>\n",
              "    <tr>\n",
              "      <th>8</th>\n",
              "      <td>Granada</td>\n",
              "      <td>39</td>\n",
              "    </tr>\n",
              "    <tr>\n",
              "      <th>9</th>\n",
              "      <td>Atletico de Bilbao</td>\n",
              "      <td>67</td>\n",
              "    </tr>\n",
              "    <tr>\n",
              "      <th>10</th>\n",
              "      <td>Osasuna</td>\n",
              "      <td>41</td>\n",
              "    </tr>\n",
              "    <tr>\n",
              "      <th>11</th>\n",
              "      <td>Betis</td>\n",
              "      <td>63</td>\n",
              "    </tr>\n",
              "    <tr>\n",
              "      <th>12</th>\n",
              "      <td>Levante</td>\n",
              "      <td>35</td>\n",
              "    </tr>\n",
              "    <tr>\n",
              "      <th>13</th>\n",
              "      <td>Alaves</td>\n",
              "      <td>42</td>\n",
              "    </tr>\n",
              "    <tr>\n",
              "      <th>14</th>\n",
              "      <td>Valladolid</td>\n",
              "      <td>45</td>\n",
              "    </tr>\n",
              "    <tr>\n",
              "      <th>15</th>\n",
              "      <td>Eibar</td>\n",
              "      <td>33</td>\n",
              "    </tr>\n",
              "    <tr>\n",
              "      <th>16</th>\n",
              "      <td>Celta de Vigo</td>\n",
              "      <td>51</td>\n",
              "    </tr>\n",
              "    <tr>\n",
              "      <th>17</th>\n",
              "      <td>Mallorca</td>\n",
              "      <td>41</td>\n",
              "    </tr>\n",
              "    <tr>\n",
              "      <th>18</th>\n",
              "      <td>Leganes</td>\n",
              "      <td>45</td>\n",
              "    </tr>\n",
              "    <tr>\n",
              "      <th>19</th>\n",
              "      <td>Espanol</td>\n",
              "      <td>41</td>\n",
              "    </tr>\n",
              "  </tbody>\n",
              "</table>\n",
              "</div>"
            ],
            "text/plain": [
              "                Equipo Puntos\n",
              "0            Barcelona     77\n",
              "1          Real Madrid     92\n",
              "2              Sevilla     46\n",
              "3        Real Sociedad     56\n",
              "4               Getafe     32\n",
              "5   Atletico de Madrid     56\n",
              "6             Valencia     64\n",
              "7           Villarreal     59\n",
              "8              Granada     39\n",
              "9   Atletico de Bilbao     67\n",
              "10             Osasuna     41\n",
              "11               Betis     63\n",
              "12             Levante     35\n",
              "13              Alaves     42\n",
              "14          Valladolid     45\n",
              "15               Eibar     33\n",
              "16       Celta de Vigo     51\n",
              "17            Mallorca     41\n",
              "18             Leganes     45\n",
              "19             Espanol     41"
            ]
          },
          "metadata": {
            "tags": []
          },
          "execution_count": 20
        }
      ]
    },
    {
      "cell_type": "code",
      "metadata": {
        "id": "rnFZWv041HQS",
        "colab_type": "code",
        "outputId": "4dbb885f-5a41-43d8-ac12-f4e8ce0eb662",
        "colab": {
          "base_uri": "https://localhost:8080/",
          "height": 662
        }
      },
      "source": [
        "#Ordenado por puntos de mayor a menor\n",
        "tablaPosiciones.sort_values(by=[\"Puntos\"],ascending=False)\n",
        "#tablaPosiciones.index"
      ],
      "execution_count": 0,
      "outputs": [
        {
          "output_type": "execute_result",
          "data": {
            "text/html": [
              "<div>\n",
              "<style scoped>\n",
              "    .dataframe tbody tr th:only-of-type {\n",
              "        vertical-align: middle;\n",
              "    }\n",
              "\n",
              "    .dataframe tbody tr th {\n",
              "        vertical-align: top;\n",
              "    }\n",
              "\n",
              "    .dataframe thead th {\n",
              "        text-align: right;\n",
              "    }\n",
              "</style>\n",
              "<table border=\"1\" class=\"dataframe\">\n",
              "  <thead>\n",
              "    <tr style=\"text-align: right;\">\n",
              "      <th></th>\n",
              "      <th>Equipo</th>\n",
              "      <th>Puntos</th>\n",
              "    </tr>\n",
              "  </thead>\n",
              "  <tbody>\n",
              "    <tr>\n",
              "      <th>1</th>\n",
              "      <td>Real Madrid</td>\n",
              "      <td>92</td>\n",
              "    </tr>\n",
              "    <tr>\n",
              "      <th>0</th>\n",
              "      <td>Barcelona</td>\n",
              "      <td>77</td>\n",
              "    </tr>\n",
              "    <tr>\n",
              "      <th>9</th>\n",
              "      <td>Atletico de Bilbao</td>\n",
              "      <td>67</td>\n",
              "    </tr>\n",
              "    <tr>\n",
              "      <th>6</th>\n",
              "      <td>Valencia</td>\n",
              "      <td>64</td>\n",
              "    </tr>\n",
              "    <tr>\n",
              "      <th>11</th>\n",
              "      <td>Betis</td>\n",
              "      <td>63</td>\n",
              "    </tr>\n",
              "    <tr>\n",
              "      <th>7</th>\n",
              "      <td>Villarreal</td>\n",
              "      <td>59</td>\n",
              "    </tr>\n",
              "    <tr>\n",
              "      <th>3</th>\n",
              "      <td>Real Sociedad</td>\n",
              "      <td>56</td>\n",
              "    </tr>\n",
              "    <tr>\n",
              "      <th>5</th>\n",
              "      <td>Atletico de Madrid</td>\n",
              "      <td>56</td>\n",
              "    </tr>\n",
              "    <tr>\n",
              "      <th>16</th>\n",
              "      <td>Celta de Vigo</td>\n",
              "      <td>51</td>\n",
              "    </tr>\n",
              "    <tr>\n",
              "      <th>2</th>\n",
              "      <td>Sevilla</td>\n",
              "      <td>46</td>\n",
              "    </tr>\n",
              "    <tr>\n",
              "      <th>14</th>\n",
              "      <td>Valladolid</td>\n",
              "      <td>45</td>\n",
              "    </tr>\n",
              "    <tr>\n",
              "      <th>18</th>\n",
              "      <td>Leganes</td>\n",
              "      <td>45</td>\n",
              "    </tr>\n",
              "    <tr>\n",
              "      <th>13</th>\n",
              "      <td>Alaves</td>\n",
              "      <td>42</td>\n",
              "    </tr>\n",
              "    <tr>\n",
              "      <th>17</th>\n",
              "      <td>Mallorca</td>\n",
              "      <td>41</td>\n",
              "    </tr>\n",
              "    <tr>\n",
              "      <th>10</th>\n",
              "      <td>Osasuna</td>\n",
              "      <td>41</td>\n",
              "    </tr>\n",
              "    <tr>\n",
              "      <th>19</th>\n",
              "      <td>Espanol</td>\n",
              "      <td>41</td>\n",
              "    </tr>\n",
              "    <tr>\n",
              "      <th>8</th>\n",
              "      <td>Granada</td>\n",
              "      <td>39</td>\n",
              "    </tr>\n",
              "    <tr>\n",
              "      <th>12</th>\n",
              "      <td>Levante</td>\n",
              "      <td>35</td>\n",
              "    </tr>\n",
              "    <tr>\n",
              "      <th>15</th>\n",
              "      <td>Eibar</td>\n",
              "      <td>33</td>\n",
              "    </tr>\n",
              "    <tr>\n",
              "      <th>4</th>\n",
              "      <td>Getafe</td>\n",
              "      <td>32</td>\n",
              "    </tr>\n",
              "  </tbody>\n",
              "</table>\n",
              "</div>"
            ],
            "text/plain": [
              "                Equipo Puntos\n",
              "1          Real Madrid     92\n",
              "0            Barcelona     77\n",
              "9   Atletico de Bilbao     67\n",
              "6             Valencia     64\n",
              "11               Betis     63\n",
              "7           Villarreal     59\n",
              "3        Real Sociedad     56\n",
              "5   Atletico de Madrid     56\n",
              "16       Celta de Vigo     51\n",
              "2              Sevilla     46\n",
              "14          Valladolid     45\n",
              "18             Leganes     45\n",
              "13              Alaves     42\n",
              "17            Mallorca     41\n",
              "10             Osasuna     41\n",
              "19             Espanol     41\n",
              "8              Granada     39\n",
              "12             Levante     35\n",
              "15               Eibar     33\n",
              "4               Getafe     32"
            ]
          },
          "metadata": {
            "tags": []
          },
          "execution_count": 21
        }
      ]
    }
  ]
}